{
  "nbformat": 4,
  "nbformat_minor": 0,
  "metadata": {
    "colab": {
      "name": "day 3 Batch4 fcs.ipynb",
      "provenance": [],
      "collapsed_sections": [],
      "authorship_tag": "ABX9TyOMPh+bJxsc0YPsAMMoWSLH",
      "include_colab_link": true
    },
    "kernelspec": {
      "name": "python3",
      "display_name": "Python 3"
    }
  },
  "cells": [
    {
      "cell_type": "markdown",
      "metadata": {
        "id": "view-in-github",
        "colab_type": "text"
      },
      "source": [
        "<a href=\"https://colab.research.google.com/github/mkmahto2/letsUpgrade-Batch4/blob/master/day_3_Batch4_fcs.ipynb\" target=\"_parent\"><img src=\"https://colab.research.google.com/assets/colab-badge.svg\" alt=\"Open In Colab\"/></a>"
      ]
    },
    {
      "cell_type": "markdown",
      "metadata": {
        "id": "uAtELpEOQRaG",
        "colab_type": "text"
      },
      "source": [
        "**Assignment day 3**\n",
        "\n",
        "FCS batch 4 \n",
        "\n",
        "Name: Mukesh kumar mahto\n",
        "\n",
        "email- mukesh.7755@gmail.com"
      ]
    },
    {
      "cell_type": "markdown",
      "metadata": {
        "id": "CyqvIa28SwD4",
        "colab_type": "text"
      },
      "source": [
        "**Question 1:**\n",
        "\n",
        "WAP for taking one number a input and then using if elif else concept, assign a grade\n",
        "to the input number from\n",
        "A,B,C,D,E, Fail\n",
        "In a formatted report card Example :\n",
        "\n",
        "Input - 97\n",
        "\n",
        "Output - \n",
        "\n",
        "     |--------|\n",
        "     | A      |\n",
        "     |--------|"
      ]
    },
    {
      "cell_type": "code",
      "metadata": {
        "id": "hktnDltMRgQw",
        "colab_type": "code",
        "outputId": "8001b79a-d393-4d17-daa4-b71744201f60",
        "colab": {
          "base_uri": "https://localhost:8080/",
          "height": 84
        }
      },
      "source": [
        "marks = int(input(\"Enter your marks - \"))\n",
        "\n",
        "print('|--------|')\n",
        "if(marks >= 85):\n",
        "    print(\"|   A    |\")\n",
        "elif (marks>=75 and marks <= 84):\n",
        "    print(\"|   B    |\")\n",
        "elif (marks>=65 and marks <= 74):\n",
        "    print(\"|   C    |\")\n",
        "elif (marks>=55 and marks <= 64):\n",
        "    print(\"|   D    |\")\n",
        "elif (marks>=45 and marks <= 54):\n",
        "    print(\"|   E    |\")\n",
        "else:\n",
        "    print(\"Need imporvement\")\n",
        "    \n",
        "print('|--------|')"
      ],
      "execution_count": 5,
      "outputs": [
        {
          "output_type": "stream",
          "text": [
            "Enter your marks - 45\n",
            "|--------|\n",
            "|   E    |\n",
            "|--------|\n"
          ],
          "name": "stdout"
        }
      ]
    },
    {
      "cell_type": "markdown",
      "metadata": {
        "id": "t6O37y7BQJ6l",
        "colab_type": "text"
      },
      "source": [
        "**Question 2:**\n",
        "\n",
        "Guessing Team India Score in 20-20 Cricket -\n",
        "WAP gives you a random score of Team India in a cricket match, and a player has to\n",
        "guess the score given by computer in between 1 to 250. The rules are:\n",
        "1. If a player's guess is less than 1 or greater than 250, say \"Reduce your expectation for 20-20\n",
        "Cricket\"\n",
        "2. On a player's input, if their score guess is\n",
        "a. within 10 of the number, return \"Close By, you are True Indian Fan! \"\n",
        "b. further than 10 away from the number, return \"You are not a true Indian Fan! :P\""
      ]
    },
    {
      "cell_type": "code",
      "metadata": {
        "id": "Bfefu89nRsYJ",
        "colab_type": "code",
        "outputId": "7d9d3cc2-7047-495c-f71e-54e1a58a8f34",
        "colab": {
          "base_uri": "https://localhost:8080/",
          "height": 67
        }
      },
      "source": [
        " from random import randint \n",
        " \n",
        "computer_generated_team_india_score = randint(1,250)\n",
        "print(\"Computer Generated Team India Cricket Score - \",computer_generated_team_india_score)\n",
        " \n",
        "#Guessing module --- \n",
        "while True:\n",
        "    user_input = int(input(\"enter your guess \"))\n",
        "    if(user_input>=1 and user_input<=250):\n",
        "        break\n",
        "    else:\n",
        "        print(\"Reduce your expectation for 20-20 Cricket. Enter your number again\")\n",
        " \n",
        "#Checking whether the number is near by yes or no \n",
        "diffeence = abs(user_input - computer_generated_team_india_score)\n",
        " \n",
        "if ( diffeence <=10 and diffeence >=1):\n",
        "    print(\"Close By, you are True Indian Fan! \")\n",
        "else:\n",
        "    print(\"You are not a true Indian Fan! :P\")"
      ],
      "execution_count": 6,
      "outputs": [
        {
          "output_type": "stream",
          "text": [
            "Computer Generated Team India Cricket Score -  11\n",
            "enter your guess 45\n",
            "You are not a true Indian Fan! :P\n"
          ],
          "name": "stdout"
        }
      ]
    },
    {
      "cell_type": "markdown",
      "metadata": {
        "id": "d2makOcqQRe6",
        "colab_type": "text"
      },
      "source": [
        "**Question 3:**\n",
        "\n",
        " Roy wants to change his profile picture on Facebook. Now Facebook has some\n",
        "restrictions over the dimension of pictures that we can upload.\n",
        "Minimum dimension of the picture can be L x L, where L is the length of the side of the\n",
        "square.\n",
        "Now Roy has N photos of various dimensions.\n",
        "Dimension of a photo is denoted as W x H\n",
        "where W - width of the photo and H - Height of the photo\n",
        "When any photo is uploaded following events may occur:\n",
        "[1] If any of the width or height is less than L, the user is prompted to upload another one. Print\n",
        "\"UPLOAD ANOTHER\" in this case.\n",
        "[2] If width and height, both are large enough and\n",
        "(a) if the photo is already square then it is accepted. Print \"ACCEPTED\" in this case.\n",
        "(b) else the user is prompted to crop it. Print \"CROP IT\" in this case. (quotes are only for clarification)\n",
        "Given L, N, W and H as input, print appropriate text as output.\n",
        "Input:\n",
        "First line contains L.\n",
        "Second line contains N, number of photos.\n",
        "Following N lines each contains two space separated integers W and H.\n",
        "Output:\n",
        "Print appropriate text for each photo in a new line.\n",
        "Constraints:\n",
        "1 <= L,W,H <= 10000\n",
        "1 <= N <= 1000"
      ]
    },
    {
      "cell_type": "code",
      "metadata": {
        "id": "A_KrebcZTXxm",
        "colab_type": "code",
        "colab": {
          "base_uri": "https://localhost:8080/",
          "height": 151
        },
        "outputId": "b3b39a8c-6b74-435f-93a7-9ad2b2810ded"
      },
      "source": [
        " n = int(input(\"Enter number of chances you want a user to upload ?\"))\n",
        " \n",
        "#Enter the Lenght size \n",
        "l = int(input(\"Enter the min Length ?\"))\n",
        " \n",
        "curent_operation = 0\n",
        "while(curent_operation<n):\n",
        "    curent_operation += 1\n",
        "    \n",
        "    h = int(input(\"Enter ur Height of photo ?\"))\n",
        "    w = int(input(\"Enter ur Width of the photo ?\"))\n",
        "    \n",
        "    if ( h >= l and w >=l):\n",
        "        if(h==w):\n",
        "            print(\"Accepted\")\n",
        "        else:\n",
        "            print(\"Crop it\")\n",
        "    else:\n",
        "        print(\"minimum photo size should be - \", l )"
      ],
      "execution_count": 7,
      "outputs": [
        {
          "output_type": "stream",
          "text": [
            "Enter number of chances you want a user to upload ?2\n",
            "Enter the min Length ?33\n",
            "Enter ur Height of photo ?44\n",
            "Enter ur Width of the photo ?33\n",
            "Crop it\n",
            "Enter ur Height of photo ?33\n",
            "Enter ur Width of the photo ?33\n",
            "Accepted\n"
          ],
          "name": "stdout"
        }
      ]
    },
    {
      "cell_type": "markdown",
      "metadata": {
        "id": "9OA2P1v0QnTe",
        "colab_type": "text"
      },
      "source": [
        "**Question 4:**\n",
        "\n",
        "➔ Ankit is in a maze. The command center sent him a string which decodes to\n",
        "come out from the maze.\n",
        "\n",
        "➔ He is initially at (0, 0).\n",
        "\n",
        "➔ String contains L, R, U, D denoting left, right, up and down.\n",
        "\n",
        "➔ In each command he will traverse 1 unit distance in the respective direction.\n",
        "\n",
        "➔ For example if he is at (2, 0) and the command is L he will go to (1, 0).\n",
        "\n",
        "➔ You guys just need to make the flow of the logic which updates the position after taking\n",
        "input from u L, R, U, D\n"
      ]
    },
    {
      "cell_type": "code",
      "metadata": {
        "id": "yZpL1tacUh3E",
        "colab_type": "code",
        "outputId": "138b9537-de87-4355-bbf8-9d4535349f20",
        "colab": {
          "base_uri": "https://localhost:8080/",
          "height": 90
        }
      },
      "source": [
        " ankit_x = 0 \n",
        "ankit_y = 0 \n",
        " \n",
        "max_move = 0\n",
        " \n",
        "while(max_move <= 5):\n",
        "    max_move += 1\n",
        "    command = input(\"Enter the Command for ankit to move - \")\n",
        "    command = command.lower()\n",
        "    \n",
        "    if(command == \"l\"):\n",
        "        ankit_x += -1\n",
        "    elif (command == \"r\"):\n",
        "        ankit_x += +1\n",
        "    elif (command == \"u\"):\n",
        "        ankit_y += 1\n",
        "    elif( command == \"d\"):\n",
        "        ankit_y -= 1\n",
        "    else: \n",
        "        print(\"Enter valid input, L,R,U,D\")\n",
        "    \n",
        "    print(\"ankit is here - \", ankit_x, ankit_y)"
      ],
      "execution_count": 0,
      "outputs": [
        {
          "output_type": "stream",
          "text": [
            "Enter the Command for ankit to move - r\n",
            "ankit is here -  1 0\n"
          ],
          "name": "stdout"
        }
      ]
    }
  ]
}