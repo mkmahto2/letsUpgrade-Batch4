{
  "nbformat": 4,
  "nbformat_minor": 0,
  "metadata": {
    "colab": {
      "name": "Day 2 assignment FCS B4.ipynb",
      "provenance": []
    },
    "kernelspec": {
      "name": "python3",
      "display_name": "Python 3"
    }
  },
  "cells": [
    {
      "cell_type": "code",
      "metadata": {
        "id": "rY-aJXLTKTMb",
        "colab_type": "code",
        "colab": {}
      },
      "source": [
        ""
      ],
      "execution_count": 0,
      "outputs": []
    },
    {
      "cell_type": "markdown",
      "metadata": {
        "id": "-4HK16Xbn_Sl",
        "colab_type": "text"
      },
      "source": [
        "**Assignment FCS batch-4**\n",
        "\n",
        "Google Colab Notebook - with:\n",
        "\n",
        "name:\n",
        "***mukesh kumar mahto***\n",
        "1. List and its default functions\n",
        "2. Dictionary & its default functions\n",
        "3. Sets & its default functions\n",
        "4. Tuple & explore default methods\n",
        "5. String & explore default methods (Only 10)"
      ]
    },
    {
      "cell_type": "markdown",
      "metadata": {
        "id": "_JH3dY3aoM0u",
        "colab_type": "text"
      },
      "source": [
        "LIST AND ITS DEFUALT FUNCTION"
      ]
    },
    {
      "cell_type": "markdown",
      "metadata": {
        "id": "Hr-icw_duDK2",
        "colab_type": "text"
      },
      "source": [
        "List "
      ]
    },
    {
      "cell_type": "code",
      "metadata": {
        "id": "SDsD1crRqNc5",
        "colab_type": "code",
        "colab": {}
      },
      "source": [
        "m=[1, 3, 4, 5,\"mukesh\",\"jharkhand\"]\n"
      ],
      "execution_count": 0,
      "outputs": []
    },
    {
      "cell_type": "markdown",
      "metadata": {
        "id": "7HlrPPtruHRk",
        "colab_type": "text"
      },
      "source": [
        "print of list containing object"
      ]
    },
    {
      "cell_type": "code",
      "metadata": {
        "id": "3HyKYl1dqccW",
        "colab_type": "code",
        "colab": {
          "base_uri": "https://localhost:8080/",
          "height": 34
        },
        "outputId": "93ebc3bd-c632-4777-c70f-a92befda7784"
      },
      "source": [
        "m"
      ],
      "execution_count": 146,
      "outputs": [
        {
          "output_type": "execute_result",
          "data": {
            "text/plain": [
              "[1, 3, 4, 5, 'mukesh', 'jharkhand']"
            ]
          },
          "metadata": {
            "tags": []
          },
          "execution_count": 146
        }
      ]
    },
    {
      "cell_type": "markdown",
      "metadata": {
        "id": "CUH7Jn3XuTHt",
        "colab_type": "text"
      },
      "source": [
        "Append Function"
      ]
    },
    {
      "cell_type": "code",
      "metadata": {
        "id": "CfKjTxWaqfHA",
        "colab_type": "code",
        "colab": {}
      },
      "source": [
        "m.append(\"kumar\")"
      ],
      "execution_count": 0,
      "outputs": []
    },
    {
      "cell_type": "code",
      "metadata": {
        "id": "8iz0bO2dqkgG",
        "colab_type": "code",
        "colab": {
          "base_uri": "https://localhost:8080/",
          "height": 34
        },
        "outputId": "8c2f9dec-b0b9-4596-92d3-302e2487d473"
      },
      "source": [
        "m"
      ],
      "execution_count": 148,
      "outputs": [
        {
          "output_type": "execute_result",
          "data": {
            "text/plain": [
              "[1, 3, 4, 5, 'mukesh', 'jharkhand', 'kumar']"
            ]
          },
          "metadata": {
            "tags": []
          },
          "execution_count": 148
        }
      ]
    },
    {
      "cell_type": "markdown",
      "metadata": {
        "id": "w8yPO6FpuaBw",
        "colab_type": "text"
      },
      "source": [
        "Reverse Function"
      ]
    },
    {
      "cell_type": "code",
      "metadata": {
        "id": "PYnjI3Bfqs7Z",
        "colab_type": "code",
        "colab": {}
      },
      "source": [
        "m.reverse()"
      ],
      "execution_count": 0,
      "outputs": []
    },
    {
      "cell_type": "code",
      "metadata": {
        "id": "-dk3FiKyq0nY",
        "colab_type": "code",
        "colab": {
          "base_uri": "https://localhost:8080/",
          "height": 34
        },
        "outputId": "74d671a8-6605-4730-f1bb-f98ff14c633c"
      },
      "source": [
        "m"
      ],
      "execution_count": 150,
      "outputs": [
        {
          "output_type": "execute_result",
          "data": {
            "text/plain": [
              "['kumar', 'jharkhand', 'mukesh', 5, 4, 3, 1]"
            ]
          },
          "metadata": {
            "tags": []
          },
          "execution_count": 150
        }
      ]
    },
    {
      "cell_type": "markdown",
      "metadata": {
        "id": "uQFlGkeQutUn",
        "colab_type": "text"
      },
      "source": [
        "Insert Function"
      ]
    },
    {
      "cell_type": "code",
      "metadata": {
        "id": "u6UqQpETrGmf",
        "colab_type": "code",
        "colab": {}
      },
      "source": [
        "m.insert(4,\"mahto\")"
      ],
      "execution_count": 0,
      "outputs": []
    },
    {
      "cell_type": "code",
      "metadata": {
        "id": "SVO10d_krdDR",
        "colab_type": "code",
        "colab": {
          "base_uri": "https://localhost:8080/",
          "height": 34
        },
        "outputId": "5fe6cba7-7be0-4a4f-eddc-88faed912c1e"
      },
      "source": [
        "m"
      ],
      "execution_count": 152,
      "outputs": [
        {
          "output_type": "execute_result",
          "data": {
            "text/plain": [
              "['kumar', 'jharkhand', 'mukesh', 5, 'mahto', 4, 3, 1]"
            ]
          },
          "metadata": {
            "tags": []
          },
          "execution_count": 152
        }
      ]
    },
    {
      "cell_type": "markdown",
      "metadata": {
        "id": "5CVbgAQ6u1Ja",
        "colab_type": "text"
      },
      "source": [
        "Remove Function"
      ]
    },
    {
      "cell_type": "code",
      "metadata": {
        "id": "9C9c2T60rieV",
        "colab_type": "code",
        "colab": {}
      },
      "source": [
        "m.remove(\"kumar\")\n"
      ],
      "execution_count": 0,
      "outputs": []
    },
    {
      "cell_type": "code",
      "metadata": {
        "id": "jZy7UsoTr4gt",
        "colab_type": "code",
        "colab": {
          "base_uri": "https://localhost:8080/",
          "height": 34
        },
        "outputId": "0c0f0316-12c5-4881-9140-a2c52917e78b"
      },
      "source": [
        "m"
      ],
      "execution_count": 154,
      "outputs": [
        {
          "output_type": "execute_result",
          "data": {
            "text/plain": [
              "['jharkhand', 'mukesh', 5, 'mahto', 4, 3, 1]"
            ]
          },
          "metadata": {
            "tags": []
          },
          "execution_count": 154
        }
      ]
    },
    {
      "cell_type": "markdown",
      "metadata": {
        "id": "sduCb6Lou6Nb",
        "colab_type": "text"
      },
      "source": [
        "Pop Function"
      ]
    },
    {
      "cell_type": "code",
      "metadata": {
        "id": "qKCXZhaur7oy",
        "colab_type": "code",
        "colab": {
          "base_uri": "https://localhost:8080/",
          "height": 34
        },
        "outputId": "a4c44d69-3965-4100-a22b-bc20f026045b"
      },
      "source": [
        "m.pop()"
      ],
      "execution_count": 155,
      "outputs": [
        {
          "output_type": "execute_result",
          "data": {
            "text/plain": [
              "1"
            ]
          },
          "metadata": {
            "tags": []
          },
          "execution_count": 155
        }
      ]
    },
    {
      "cell_type": "markdown",
      "metadata": {
        "id": "zHb7D_qxu_f2",
        "colab_type": "text"
      },
      "source": [
        "Index Function"
      ]
    },
    {
      "cell_type": "code",
      "metadata": {
        "id": "6-XBs_RtsBXw",
        "colab_type": "code",
        "colab": {
          "base_uri": "https://localhost:8080/",
          "height": 34
        },
        "outputId": "1d15bfec-c4ce-4980-df77-a99baddeff75"
      },
      "source": [
        "m.index(\"mukesh\")"
      ],
      "execution_count": 156,
      "outputs": [
        {
          "output_type": "execute_result",
          "data": {
            "text/plain": [
              "1"
            ]
          },
          "metadata": {
            "tags": []
          },
          "execution_count": 156
        }
      ]
    },
    {
      "cell_type": "markdown",
      "metadata": {
        "id": "fJGwUlE-vEQI",
        "colab_type": "text"
      },
      "source": [
        "Extend Function"
      ]
    },
    {
      "cell_type": "code",
      "metadata": {
        "id": "CLNoGfjBsmXm",
        "colab_type": "code",
        "colab": {}
      },
      "source": [
        "l1=[\"summer\"]\n",
        "m.extend(l1)"
      ],
      "execution_count": 0,
      "outputs": []
    },
    {
      "cell_type": "code",
      "metadata": {
        "id": "V1aO7IovtNtY",
        "colab_type": "code",
        "colab": {
          "base_uri": "https://localhost:8080/",
          "height": 34
        },
        "outputId": "e6c8a304-2b54-40eb-f3fa-68f8c577c4b8"
      },
      "source": [
        "m"
      ],
      "execution_count": 158,
      "outputs": [
        {
          "output_type": "execute_result",
          "data": {
            "text/plain": [
              "['jharkhand', 'mukesh', 5, 'mahto', 4, 3, 'summer']"
            ]
          },
          "metadata": {
            "tags": []
          },
          "execution_count": 158
        }
      ]
    },
    {
      "cell_type": "code",
      "metadata": {
        "id": "LU0mR-e0tYaZ",
        "colab_type": "code",
        "colab": {
          "base_uri": "https://localhost:8080/",
          "height": 34
        },
        "outputId": "7bcaa128-bae0-48cf-a1f5-c5a2fbd37e8d"
      },
      "source": [
        "m.append(1)\n",
        "m"
      ],
      "execution_count": 159,
      "outputs": [
        {
          "output_type": "execute_result",
          "data": {
            "text/plain": [
              "['jharkhand', 'mukesh', 5, 'mahto', 4, 3, 'summer', 1]"
            ]
          },
          "metadata": {
            "tags": []
          },
          "execution_count": 159
        }
      ]
    },
    {
      "cell_type": "markdown",
      "metadata": {
        "id": "thYEVg0yvJLo",
        "colab_type": "text"
      },
      "source": [
        "Count Function"
      ]
    },
    {
      "cell_type": "code",
      "metadata": {
        "id": "PTKS_ueGtuUF",
        "colab_type": "code",
        "colab": {
          "base_uri": "https://localhost:8080/",
          "height": 34
        },
        "outputId": "a2e4bac7-b8e6-4fda-e353-d2553e0d171a"
      },
      "source": [
        "m.count(1)\n"
      ],
      "execution_count": 160,
      "outputs": [
        {
          "output_type": "execute_result",
          "data": {
            "text/plain": [
              "1"
            ]
          },
          "metadata": {
            "tags": []
          },
          "execution_count": 160
        }
      ]
    },
    {
      "cell_type": "code",
      "metadata": {
        "id": "ZI8vXYuPt71t",
        "colab_type": "code",
        "colab": {
          "base_uri": "https://localhost:8080/",
          "height": 34
        },
        "outputId": "a032a665-c907-45ab-c76b-4783ddef133f"
      },
      "source": [
        "m.count(\"mukesh\")"
      ],
      "execution_count": 161,
      "outputs": [
        {
          "output_type": "execute_result",
          "data": {
            "text/plain": [
              "1"
            ]
          },
          "metadata": {
            "tags": []
          },
          "execution_count": 161
        }
      ]
    },
    {
      "cell_type": "markdown",
      "metadata": {
        "id": "y-A3EskTvqjU",
        "colab_type": "text"
      },
      "source": [
        "**Dictionary and Its Function**"
      ]
    },
    {
      "cell_type": "code",
      "metadata": {
        "id": "x8Mc7c6Sv2LQ",
        "colab_type": "code",
        "colab": {}
      },
      "source": [
        "dct= {1: 'apple', 2: 'ball'}"
      ],
      "execution_count": 0,
      "outputs": []
    },
    {
      "cell_type": "code",
      "metadata": {
        "id": "BuMmTNj_wZ2v",
        "colab_type": "code",
        "colab": {
          "base_uri": "https://localhost:8080/",
          "height": 34
        },
        "outputId": "1f1b1e24-cc87-4156-8cc4-0d7eaee070fd"
      },
      "source": [
        "dct"
      ],
      "execution_count": 163,
      "outputs": [
        {
          "output_type": "execute_result",
          "data": {
            "text/plain": [
              "{1: 'apple', 2: 'ball'}"
            ]
          },
          "metadata": {
            "tags": []
          },
          "execution_count": 163
        }
      ]
    },
    {
      "cell_type": "code",
      "metadata": {
        "id": "V7wIb1f1weie",
        "colab_type": "code",
        "colab": {
          "base_uri": "https://localhost:8080/",
          "height": 34
        },
        "outputId": "4645375b-5a71-4fc4-ddc8-5a7e8632fd15"
      },
      "source": [
        "l=dct.keys()\n",
        "l"
      ],
      "execution_count": 164,
      "outputs": [
        {
          "output_type": "execute_result",
          "data": {
            "text/plain": [
              "dict_keys([1, 2])"
            ]
          },
          "metadata": {
            "tags": []
          },
          "execution_count": 164
        }
      ]
    },
    {
      "cell_type": "code",
      "metadata": {
        "id": "VNNRA5KHwpj3",
        "colab_type": "code",
        "colab": {
          "base_uri": "https://localhost:8080/",
          "height": 34
        },
        "outputId": "1f7d1e4e-885a-40cd-cfcb-c0cd2dc5eb39"
      },
      "source": [
        "value=dct.values()\n",
        "value"
      ],
      "execution_count": 165,
      "outputs": [
        {
          "output_type": "execute_result",
          "data": {
            "text/plain": [
              "dict_values(['apple', 'ball'])"
            ]
          },
          "metadata": {
            "tags": []
          },
          "execution_count": 165
        }
      ]
    },
    {
      "cell_type": "code",
      "metadata": {
        "id": "FZlPlblUwyC1",
        "colab_type": "code",
        "colab": {
          "base_uri": "https://localhost:8080/",
          "height": 34
        },
        "outputId": "d4feed63-0051-4aa7-d190-1b383a063cf1"
      },
      "source": [
        "type(dct)"
      ],
      "execution_count": 166,
      "outputs": [
        {
          "output_type": "execute_result",
          "data": {
            "text/plain": [
              "dict"
            ]
          },
          "metadata": {
            "tags": []
          },
          "execution_count": 166
        }
      ]
    },
    {
      "cell_type": "code",
      "metadata": {
        "colab_type": "code",
        "outputId": "f4b4b702-c019-4da8-de05-aaea272062ee",
        "id": "XDJM2jss1k5C",
        "colab": {
          "base_uri": "https://localhost:8080/",
          "height": 34
        }
      },
      "source": [
        "dct.values()\n"
      ],
      "execution_count": 167,
      "outputs": [
        {
          "output_type": "execute_result",
          "data": {
            "text/plain": [
              "dict_values(['apple', 'ball'])"
            ]
          },
          "metadata": {
            "tags": []
          },
          "execution_count": 167
        }
      ]
    },
    {
      "cell_type": "code",
      "metadata": {
        "id": "1UYQ8b2Mx2Ho",
        "colab_type": "code",
        "colab": {
          "base_uri": "https://localhost:8080/",
          "height": 34
        },
        "outputId": "d5201c38-71dc-408a-b4e8-6b35ec09d19a"
      },
      "source": [
        "new=dct.copy()\n",
        "new"
      ],
      "execution_count": 168,
      "outputs": [
        {
          "output_type": "execute_result",
          "data": {
            "text/plain": [
              "{1: 'apple', 2: 'ball'}"
            ]
          },
          "metadata": {
            "tags": []
          },
          "execution_count": 168
        }
      ]
    },
    {
      "cell_type": "code",
      "metadata": {
        "id": "Z4Z5-SsKyGRi",
        "colab_type": "code",
        "colab": {
          "base_uri": "https://localhost:8080/",
          "height": 34
        },
        "outputId": "f864398c-516d-4ec6-cac7-ace361853141"
      },
      "source": [
        "dct1={3:\"mango\"}\n",
        "dct.update(dct1)\n",
        "dct"
      ],
      "execution_count": 169,
      "outputs": [
        {
          "output_type": "execute_result",
          "data": {
            "text/plain": [
              "{1: 'apple', 2: 'ball', 3: 'mango'}"
            ]
          },
          "metadata": {
            "tags": []
          },
          "execution_count": 169
        }
      ]
    },
    {
      "cell_type": "code",
      "metadata": {
        "id": "bUibUZ9Tyq1D",
        "colab_type": "code",
        "colab": {
          "base_uri": "https://localhost:8080/",
          "height": 34
        },
        "outputId": "05391ca3-581f-4616-e7c0-e2aa6ef7db62"
      },
      "source": [
        "apple=dct.setdefault(\"banana\")\n",
        "dct"
      ],
      "execution_count": 170,
      "outputs": [
        {
          "output_type": "execute_result",
          "data": {
            "text/plain": [
              "{1: 'apple', 2: 'ball', 3: 'mango', 'banana': None}"
            ]
          },
          "metadata": {
            "tags": []
          },
          "execution_count": 170
        }
      ]
    },
    {
      "cell_type": "code",
      "metadata": {
        "id": "NulsHlnLz5Kl",
        "colab_type": "code",
        "colab": {
          "base_uri": "https://localhost:8080/",
          "height": 34
        },
        "outputId": "ea35dc70-77e1-4f6f-a1a0-fa5b1b3775f3"
      },
      "source": [
        "dct.popitem()\n",
        "\n"
      ],
      "execution_count": 171,
      "outputs": [
        {
          "output_type": "execute_result",
          "data": {
            "text/plain": [
              "('banana', None)"
            ]
          },
          "metadata": {
            "tags": []
          },
          "execution_count": 171
        }
      ]
    },
    {
      "cell_type": "code",
      "metadata": {
        "id": "Oo7snoDA0ord",
        "colab_type": "code",
        "colab": {
          "base_uri": "https://localhost:8080/",
          "height": 34
        },
        "outputId": "691b6935-a7af-481e-a3fb-fcc18064d01b"
      },
      "source": [
        "dct.pop(1)"
      ],
      "execution_count": 172,
      "outputs": [
        {
          "output_type": "execute_result",
          "data": {
            "text/plain": [
              "'apple'"
            ]
          },
          "metadata": {
            "tags": []
          },
          "execution_count": 172
        }
      ]
    },
    {
      "cell_type": "code",
      "metadata": {
        "id": "_QHpAaHo1Jv5",
        "colab_type": "code",
        "colab": {
          "base_uri": "https://localhost:8080/",
          "height": 34
        },
        "outputId": "56ae420d-119b-4821-e6e8-b7028007dfce"
      },
      "source": [
        "person = {'name': 'mukesh', 'age': 22}\n",
        "person.get('name')\n"
      ],
      "execution_count": 173,
      "outputs": [
        {
          "output_type": "execute_result",
          "data": {
            "text/plain": [
              "'mukesh'"
            ]
          },
          "metadata": {
            "tags": []
          },
          "execution_count": 173
        }
      ]
    },
    {
      "cell_type": "code",
      "metadata": {
        "id": "ASvjL6zN3QHr",
        "colab_type": "code",
        "colab": {
          "base_uri": "https://localhost:8080/",
          "height": 34
        },
        "outputId": "eda8a459-f0e7-4dac-e0a2-dbcbccb9a5c5"
      },
      "source": [
        "# vowels keys\n",
        "keys = {'a', 'e', 'i', 'o', 'u' }\n",
        "\n",
        "vowels = dict.fromkeys(keys)\n",
        "print(vowels)"
      ],
      "execution_count": 174,
      "outputs": [
        {
          "output_type": "stream",
          "text": [
            "{'i': None, 'u': None, 'a': None, 'o': None, 'e': None}\n"
          ],
          "name": "stdout"
        }
      ]
    },
    {
      "cell_type": "markdown",
      "metadata": {
        "id": "SzTq31193-Vo",
        "colab_type": "text"
      },
      "source": [
        "**Sets**"
      ]
    },
    {
      "cell_type": "code",
      "metadata": {
        "id": "tjdYOyrz4W6T",
        "colab_type": "code",
        "colab": {
          "base_uri": "https://localhost:8080/",
          "height": 34
        },
        "outputId": "b06e9955-f116-466d-8b6c-220d047a7bdb"
      },
      "source": [
        "\n",
        "# set of integers\n",
        "st= {1, 2, 3}\n",
        "st"
      ],
      "execution_count": 175,
      "outputs": [
        {
          "output_type": "execute_result",
          "data": {
            "text/plain": [
              "{1, 2, 3}"
            ]
          },
          "metadata": {
            "tags": []
          },
          "execution_count": 175
        }
      ]
    },
    {
      "cell_type": "code",
      "metadata": {
        "id": "t6b8ds_G4oo_",
        "colab_type": "code",
        "colab": {
          "base_uri": "https://localhost:8080/",
          "height": 34
        },
        "outputId": "39bd7f5a-37c1-436f-fe0b-c2b65ebdf71b"
      },
      "source": [
        "# set of mixed datatypes\n",
        "mix_set= {1.0, \"Hello\", (1, 2, 3)}\n",
        "mix_set"
      ],
      "execution_count": 176,
      "outputs": [
        {
          "output_type": "execute_result",
          "data": {
            "text/plain": [
              "{(1, 2, 3), 1.0, 'Hello'}"
            ]
          },
          "metadata": {
            "tags": []
          },
          "execution_count": 176
        }
      ]
    },
    {
      "cell_type": "code",
      "metadata": {
        "id": "-22nOkfL6hgj",
        "colab_type": "code",
        "colab": {
          "base_uri": "https://localhost:8080/",
          "height": 52
        },
        "outputId": "466859f7-3a7c-400a-c780-0c7d51b8957e"
      },
      "source": [
        "numbers = {1, 2, 3, 4}\n",
        "new_numbers = numbers.copy()\n",
        "\n",
        "new_numbers.add(5)\n",
        "\n",
        "print('numbers: ', numbers)\n",
        "print('new_numbers: ', new_numbers)"
      ],
      "execution_count": 177,
      "outputs": [
        {
          "output_type": "stream",
          "text": [
            "numbers:  {1, 2, 3, 4}\n",
            "new_numbers:  {1, 2, 3, 4, 5}\n"
          ],
          "name": "stdout"
        }
      ]
    },
    {
      "cell_type": "code",
      "metadata": {
        "id": "8vKktpFf6kBj",
        "colab_type": "code",
        "colab": {
          "base_uri": "https://localhost:8080/",
          "height": 52
        },
        "outputId": "5c3281e6-f828-4565-a778-20a692f0393a"
      },
      "source": [
        "A = {'a', 'b', 'c', 'd'}\n",
        "B = {'c', 'f', 'g'}\n",
        "\n",
        "# Equivalent to A-B\n",
        "print(A.difference(B))\n",
        "\n",
        "# Equivalent to B-A\n",
        "print(B.difference(A))"
      ],
      "execution_count": 178,
      "outputs": [
        {
          "output_type": "stream",
          "text": [
            "{'d', 'a', 'b'}\n",
            "{'g', 'f'}\n"
          ],
          "name": "stdout"
        }
      ]
    },
    {
      "cell_type": "code",
      "metadata": {
        "id": "Uv7-6kY67CTV",
        "colab_type": "code",
        "colab": {
          "base_uri": "https://localhost:8080/",
          "height": 70
        },
        "outputId": "a5de9bef-f222-4d80-ad8a-8ad04caab4f0"
      },
      "source": [
        "A = {'a', 'c', 'g', 'd'}\n",
        "B = {'c', 'f', 'g'}\n",
        "\n",
        "result = A.difference_update(B)\n",
        "\n",
        "print('A = ', A)\n",
        "print('B = ', B)\n",
        "print('result = ', result)"
      ],
      "execution_count": 179,
      "outputs": [
        {
          "output_type": "stream",
          "text": [
            "A =  {'a', 'd'}\n",
            "B =  {'g', 'c', 'f'}\n",
            "result =  None\n"
          ],
          "name": "stdout"
        }
      ]
    },
    {
      "cell_type": "code",
      "metadata": {
        "id": "mjSgTze57LcC",
        "colab_type": "code",
        "colab": {
          "base_uri": "https://localhost:8080/",
          "height": 52
        },
        "outputId": "f9cdd3ec-05be-40cc-f4e5-a221041e081f"
      },
      "source": [
        "numbers = {2, 3, 4, 5}\n",
        "\n",
        "numbers.discard(3)\n",
        "print('numbers = ', numbers)\n",
        "\n",
        "numbers.discard(10)\n",
        "print('numbers = ', numbers)"
      ],
      "execution_count": 180,
      "outputs": [
        {
          "output_type": "stream",
          "text": [
            "numbers =  {2, 4, 5}\n",
            "numbers =  {2, 4, 5}\n"
          ],
          "name": "stdout"
        }
      ]
    },
    {
      "cell_type": "code",
      "metadata": {
        "id": "8pbShTtY7ViQ",
        "colab_type": "code",
        "colab": {
          "base_uri": "https://localhost:8080/",
          "height": 87
        },
        "outputId": "9b50a030-9f00-4ab5-b846-a387ce5a1a53"
      },
      "source": [
        "A = {2, 3, 5, 4}\n",
        "B = {2, 5, 100}\n",
        "C = {2, 3, 8, 9, 10}\n",
        "\n",
        "print(B.intersection(A))\n",
        "print(B.intersection(C))\n",
        "print(A.intersection(C))\n",
        "print(C.intersection(A, B))"
      ],
      "execution_count": 181,
      "outputs": [
        {
          "output_type": "stream",
          "text": [
            "{2, 5}\n",
            "{2}\n",
            "{2, 3}\n",
            "{2}\n"
          ],
          "name": "stdout"
        }
      ]
    },
    {
      "cell_type": "code",
      "metadata": {
        "id": "dixD4xdQ7dmk",
        "colab_type": "code",
        "colab": {
          "base_uri": "https://localhost:8080/",
          "height": 70
        },
        "outputId": "c14e52b2-8ca2-4f65-d8c8-986b1d011064"
      },
      "source": [
        "A = {1, 2, 3, 4}\n",
        "B = {2, 3, 4, 5}\n",
        "\n",
        "result = A.intersection_update(B)\n",
        "\n",
        "print('result =', result)\n",
        "print('A =', A)\n",
        "print('B =', B)"
      ],
      "execution_count": 182,
      "outputs": [
        {
          "output_type": "stream",
          "text": [
            "result = None\n",
            "A = {2, 3, 4}\n",
            "B = {2, 3, 4, 5}\n"
          ],
          "name": "stdout"
        }
      ]
    },
    {
      "cell_type": "code",
      "metadata": {
        "id": "L_qKSiJH7nMo",
        "colab_type": "code",
        "colab": {
          "base_uri": "https://localhost:8080/",
          "height": 52
        },
        "outputId": "e181b308-6f61-461d-c28d-845a30851297"
      },
      "source": [
        "A = {1, 2, 3, 4}\n",
        "B = {5, 6, 7}\n",
        "C = {4, 5, 6}\n",
        "\n",
        "print('Are A and B disjoint?', A.isdisjoint(B))\n",
        "print('Are A and C disjoint?', A.isdisjoint(C))"
      ],
      "execution_count": 183,
      "outputs": [
        {
          "output_type": "stream",
          "text": [
            "Are A and B disjoint? True\n",
            "Are A and C disjoint? False\n"
          ],
          "name": "stdout"
        }
      ]
    },
    {
      "cell_type": "code",
      "metadata": {
        "id": "i9xprVFB8EcG",
        "colab_type": "code",
        "colab": {
          "base_uri": "https://localhost:8080/",
          "height": 34
        },
        "outputId": "ce691983-43ae-44a5-dd4e-a9db39553fbd"
      },
      "source": [
        "# language set\n",
        "language = {'English', 'French', 'German'}\n",
        "\n",
        "# removing 'German' from language\n",
        "language.remove('German')\n",
        "language"
      ],
      "execution_count": 184,
      "outputs": [
        {
          "output_type": "execute_result",
          "data": {
            "text/plain": [
              "{'English', 'French'}"
            ]
          },
          "metadata": {
            "tags": []
          },
          "execution_count": 184
        }
      ]
    },
    {
      "cell_type": "code",
      "metadata": {
        "id": "TOYummaZ7xUH",
        "colab_type": "code",
        "colab": {
          "base_uri": "https://localhost:8080/",
          "height": 87
        },
        "outputId": "59a8b502-1abf-4e18-ca2d-63ac0e61ec5d"
      },
      "source": [
        "A = {1, 2, 3}\n",
        "B = {1, 2, 3, 4, 5}\n",
        "C = {1, 2, 4, 5}\n",
        "\n",
        "# Returns True\n",
        "print(A.issubset(B))\n",
        "\n",
        "# Returns False\n",
        "# B is not subset of A\n",
        "print(B.issubset(A))\n",
        "\n",
        "# Returns False\n",
        "print(A.issubset(C))\n",
        "\n",
        "# Returns True\n",
        "print(C.issubset(B))"
      ],
      "execution_count": 185,
      "outputs": [
        {
          "output_type": "stream",
          "text": [
            "True\n",
            "False\n",
            "False\n",
            "True\n"
          ],
          "name": "stdout"
        }
      ]
    },
    {
      "cell_type": "markdown",
      "metadata": {
        "id": "4DAjs2Qy8W19",
        "colab_type": "text"
      },
      "source": [
        "**Tuples**"
      ]
    },
    {
      "cell_type": "code",
      "metadata": {
        "id": "AZBz2mEd8czn",
        "colab_type": "code",
        "colab": {
          "base_uri": "https://localhost:8080/",
          "height": 34
        },
        "outputId": "1a8eaeaa-911f-42cc-f76a-bd6c91692db0"
      },
      "source": [
        "my_tuple = (\"mukesh\", [8, 4, 6], (1, 2, 3))\n",
        "my_tuple"
      ],
      "execution_count": 186,
      "outputs": [
        {
          "output_type": "execute_result",
          "data": {
            "text/plain": [
              "('mukesh', [8, 4, 6], (1, 2, 3))"
            ]
          },
          "metadata": {
            "tags": []
          },
          "execution_count": 186
        }
      ]
    },
    {
      "cell_type": "code",
      "metadata": {
        "id": "fSMCSgfH9QLu",
        "colab_type": "code",
        "colab": {
          "base_uri": "https://localhost:8080/",
          "height": 34
        },
        "outputId": "0e9b2dd7-4611-45f4-c4ff-4451f9b7099c"
      },
      "source": [
        "my_tuple.count('mukesh')"
      ],
      "execution_count": 187,
      "outputs": [
        {
          "output_type": "execute_result",
          "data": {
            "text/plain": [
              "1"
            ]
          },
          "metadata": {
            "tags": []
          },
          "execution_count": 187
        }
      ]
    },
    {
      "cell_type": "code",
      "metadata": {
        "id": "vRO19NM19wlD",
        "colab_type": "code",
        "colab": {}
      },
      "source": [
        ""
      ],
      "execution_count": 0,
      "outputs": []
    },
    {
      "cell_type": "code",
      "metadata": {
        "colab_type": "code",
        "outputId": "fac12c6e-c487-4681-f392-5bdf00d736ee",
        "id": "1T235yfy9xIz",
        "colab": {
          "base_uri": "https://localhost:8080/",
          "height": 34
        }
      },
      "source": [
        "my_tuple.count([8,4,6])"
      ],
      "execution_count": 188,
      "outputs": [
        {
          "output_type": "execute_result",
          "data": {
            "text/plain": [
              "1"
            ]
          },
          "metadata": {
            "tags": []
          },
          "execution_count": 188
        }
      ]
    },
    {
      "cell_type": "code",
      "metadata": {
        "id": "-6dcJAtC-D1g",
        "colab_type": "code",
        "colab": {
          "base_uri": "https://localhost:8080/",
          "height": 34
        },
        "outputId": "caa80f37-163a-4206-d301-9cbb506e1cae"
      },
      "source": [
        "# vowels tuple\n",
        "vowels = ('a', 'e', 'i', 'o', 'i', 'u')\n",
        "\n",
        "# count element 'i'\n",
        "count = vowels.count('i')\n",
        "count"
      ],
      "execution_count": 189,
      "outputs": [
        {
          "output_type": "execute_result",
          "data": {
            "text/plain": [
              "2"
            ]
          },
          "metadata": {
            "tags": []
          },
          "execution_count": 189
        }
      ]
    },
    {
      "cell_type": "code",
      "metadata": {
        "id": "I9pKSlq0-I0a",
        "colab_type": "code",
        "colab": {
          "base_uri": "https://localhost:8080/",
          "height": 34
        },
        "outputId": "d6632c71-ece1-4fa5-98d4-1b2e2413ef1c"
      },
      "source": [
        "vowels.index(\"o\")"
      ],
      "execution_count": 190,
      "outputs": [
        {
          "output_type": "execute_result",
          "data": {
            "text/plain": [
              "3"
            ]
          },
          "metadata": {
            "tags": []
          },
          "execution_count": 190
        }
      ]
    },
    {
      "cell_type": "markdown",
      "metadata": {
        "id": "qsgyK1sQ-Tzg",
        "colab_type": "text"
      },
      "source": [
        "**String**"
      ]
    },
    {
      "cell_type": "code",
      "metadata": {
        "id": "xMo8W4EN-YIM",
        "colab_type": "code",
        "colab": {}
      },
      "source": [
        "string = \"Hello, welcome to the world of Python\"\n"
      ],
      "execution_count": 0,
      "outputs": []
    },
    {
      "cell_type": "code",
      "metadata": {
        "id": "fLXZpzwG_LPJ",
        "colab_type": "code",
        "colab": {
          "base_uri": "https://localhost:8080/",
          "height": 34
        },
        "outputId": "ea218c1b-8f84-4c30-896d-24e2fa7188c2"
      },
      "source": [
        "string.lower()"
      ],
      "execution_count": 192,
      "outputs": [
        {
          "output_type": "execute_result",
          "data": {
            "text/plain": [
              "'hello, welcome to the world of python'"
            ]
          },
          "metadata": {
            "tags": []
          },
          "execution_count": 192
        }
      ]
    },
    {
      "cell_type": "code",
      "metadata": {
        "id": "olvIWU8K_6C_",
        "colab_type": "code",
        "colab": {
          "base_uri": "https://localhost:8080/",
          "height": 34
        },
        "outputId": "66e5f329-9cf3-4922-9814-3a321c0b3f2e"
      },
      "source": [
        "string.upper()"
      ],
      "execution_count": 193,
      "outputs": [
        {
          "output_type": "execute_result",
          "data": {
            "text/plain": [
              "'HELLO, WELCOME TO THE WORLD OF PYTHON'"
            ]
          },
          "metadata": {
            "tags": []
          },
          "execution_count": 193
        }
      ]
    },
    {
      "cell_type": "code",
      "metadata": {
        "id": "V5LtIxpYAGbC",
        "colab_type": "code",
        "colab": {
          "base_uri": "https://localhost:8080/",
          "height": 34
        },
        "outputId": "9a7194ed-4058-41d8-e71b-35a845b249a5"
      },
      "source": [
        "string.isalnum()"
      ],
      "execution_count": 194,
      "outputs": [
        {
          "output_type": "execute_result",
          "data": {
            "text/plain": [
              "False"
            ]
          },
          "metadata": {
            "tags": []
          },
          "execution_count": 194
        }
      ]
    },
    {
      "cell_type": "code",
      "metadata": {
        "id": "nS9wQKM0ALVe",
        "colab_type": "code",
        "colab": {
          "base_uri": "https://localhost:8080/",
          "height": 34
        },
        "outputId": "e591ebe3-1171-4e01-9a42-f9fa596fdfeb"
      },
      "source": [
        "string.isdigit()\n"
      ],
      "execution_count": 195,
      "outputs": [
        {
          "output_type": "execute_result",
          "data": {
            "text/plain": [
              "False"
            ]
          },
          "metadata": {
            "tags": []
          },
          "execution_count": 195
        }
      ]
    },
    {
      "cell_type": "code",
      "metadata": {
        "id": "Oqtd15XSA9fX",
        "colab_type": "code",
        "colab": {
          "base_uri": "https://localhost:8080/",
          "height": 34
        },
        "outputId": "c61d872a-8268-4df3-f204-acaf5602fa23"
      },
      "source": [
        "sentence = 'my name is mukesh kumar mahto.'\n",
        "\n",
        "result = sentence.index('kumar')\n",
        "result"
      ],
      "execution_count": 196,
      "outputs": [
        {
          "output_type": "execute_result",
          "data": {
            "text/plain": [
              "18"
            ]
          },
          "metadata": {
            "tags": []
          },
          "execution_count": 196
        }
      ]
    },
    {
      "cell_type": "code",
      "metadata": {
        "id": "urMdH27BBvAM",
        "colab_type": "code",
        "colab": {
          "base_uri": "https://localhost:8080/",
          "height": 34
        },
        "outputId": "31292906-0c7a-4708-b720-29a519d475a5"
      },
      "source": [
        "result=sentence.capitalize()\n",
        "result"
      ],
      "execution_count": 197,
      "outputs": [
        {
          "output_type": "execute_result",
          "data": {
            "text/plain": [
              "'My name is mukesh kumar mahto.'"
            ]
          },
          "metadata": {
            "tags": []
          },
          "execution_count": 197
        }
      ]
    },
    {
      "cell_type": "code",
      "metadata": {
        "id": "xUAt2K4-CI_h",
        "colab_type": "code",
        "colab": {
          "base_uri": "https://localhost:8080/",
          "height": 34
        },
        "outputId": "9844431e-43f7-4fda-c861-ec554324328d"
      },
      "source": [
        "result=sentence.isalpha()\n",
        "result"
      ],
      "execution_count": 198,
      "outputs": [
        {
          "output_type": "execute_result",
          "data": {
            "text/plain": [
              "False"
            ]
          },
          "metadata": {
            "tags": []
          },
          "execution_count": 198
        }
      ]
    },
    {
      "cell_type": "code",
      "metadata": {
        "id": "ALtTimQuCbV6",
        "colab_type": "code",
        "colab": {
          "base_uri": "https://localhost:8080/",
          "height": 34
        },
        "outputId": "b5644f2e-2afb-423d-cdf5-b1da0776c60b"
      },
      "source": [
        "result=sentence.islower()\n",
        "result"
      ],
      "execution_count": 199,
      "outputs": [
        {
          "output_type": "execute_result",
          "data": {
            "text/plain": [
              "True"
            ]
          },
          "metadata": {
            "tags": []
          },
          "execution_count": 199
        }
      ]
    },
    {
      "cell_type": "code",
      "metadata": {
        "id": "huHUdqLbClHO",
        "colab_type": "code",
        "colab": {
          "base_uri": "https://localhost:8080/",
          "height": 34
        },
        "outputId": "d847398d-ba50-41f5-ff98-0713a5ce16cb"
      },
      "source": [
        "result=sentence.isalnum()\n",
        "result"
      ],
      "execution_count": 200,
      "outputs": [
        {
          "output_type": "execute_result",
          "data": {
            "text/plain": [
              "False"
            ]
          },
          "metadata": {
            "tags": []
          },
          "execution_count": 200
        }
      ]
    },
    {
      "cell_type": "code",
      "metadata": {
        "id": "GIF-hoLUCwYd",
        "colab_type": "code",
        "colab": {
          "base_uri": "https://localhost:8080/",
          "height": 34
        },
        "outputId": "98f98b6c-7dd8-46bc-8e18-ae9a4100fa32"
      },
      "source": [
        "result=sentence.isspace()\n",
        "\n",
        "result"
      ],
      "execution_count": 201,
      "outputs": [
        {
          "output_type": "execute_result",
          "data": {
            "text/plain": [
              "False"
            ]
          },
          "metadata": {
            "tags": []
          },
          "execution_count": 201
        }
      ]
    },
    {
      "cell_type": "code",
      "metadata": {
        "id": "amJ4A8XXDFjt",
        "colab_type": "code",
        "colab": {
          "base_uri": "https://localhost:8080/",
          "height": 34
        },
        "outputId": "958157bd-c24c-4853-fc53-4924758ac6bd"
      },
      "source": [
        "result=sentence.isdecimal()\n",
        "result"
      ],
      "execution_count": 202,
      "outputs": [
        {
          "output_type": "execute_result",
          "data": {
            "text/plain": [
              "False"
            ]
          },
          "metadata": {
            "tags": []
          },
          "execution_count": 202
        }
      ]
    },
    {
      "cell_type": "code",
      "metadata": {
        "id": "D7amvMO5DOMw",
        "colab_type": "code",
        "colab": {
          "base_uri": "https://localhost:8080/",
          "height": 34
        },
        "outputId": "0015e208-3462-4cd9-d2cd-42c070de27fa"
      },
      "source": [
        "result=sentence.center(44)\n",
        "\n",
        "result"
      ],
      "execution_count": 203,
      "outputs": [
        {
          "output_type": "execute_result",
          "data": {
            "text/plain": [
              "'       my name is mukesh kumar mahto.       '"
            ]
          },
          "metadata": {
            "tags": []
          },
          "execution_count": 203
        }
      ]
    }
  ]
}